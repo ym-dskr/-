{
 "cells": [
  {
   "cell_type": "markdown",
   "metadata": {},
   "source": [
    "# 回帰"
   ]
  },
  {
   "cell_type": "markdown",
   "metadata": {},
   "source": [
    "## 原点を通る直線による近似"
   ]
  },
  {
   "cell_type": "markdown",
   "metadata": {},
   "source": [
    "訓練データを以下のように定義  \n",
    "\n",
    "$$x = (x_{1}, ..., x_{n})^T, ~~y = (y_{1}, ..., y_{n})^T$$\n",
    "\n",
    "$x$は特徴量で、$y$はターゲットとなる。  \n",
    "これは特徴量行列$X$が$n \\times 1$行列である特別な場合なので、$x$として小文字にしている。"
   ]
  },
  {
   "cell_type": "code",
   "execution_count": 1,
   "metadata": {},
   "outputs": [
    {
     "data": {
      "image/png": "[encoded data removed]",
      "text/plain": [
       "<Figure size 432x288 with 1 Axes>"
      ]
     },
     "metadata": {
      "needs_background": "light"
     },
     "output_type": "display_data"
    }
   ],
   "source": [
    "import numpy as np\n",
    "import matplotlib.pyplot as plt\n",
    "\n",
    "\n",
    "def reg1dim1(x, y):\n",
    "    a = np.dot(x, y) / (x**2).sum()\n",
    "    return a\n",
    "\n",
    "\n",
    "x = np.array([1, 2, 4, 6, 7])\n",
    "y = np.array([1, 3, 3, 5, 4])\n",
    "a = reg1dim1(x, y)\n",
    "\n",
    "plt.scatter(x, y, color=\"k\")\n",
    "xmax = x.max()\n",
    "plt.plot([0, xmax], [0, a*xmax], color=\"k\")\n",
    "plt.show()\n"
   ]
  },
  {
   "cell_type": "code",
   "execution_count": null,
   "metadata": {},
   "outputs": [],
   "source": []
  },
  {
   "cell_type": "code",
   "execution_count": null,
   "metadata": {},
   "outputs": [],
   "source": []
  }
 ],
 "metadata": {
  "kernelspec": {
   "display_name": "Python 3",
   "language": "python",
   "name": "python3"
  },
  "language_info": {
   "codemirror_mode": {
    "name": "ipython",
    "version": 3
   },
   "file_extension": ".py",
   "mimetype": "text/x-python",
   "name": "python",
   "nbconvert_exporter": "python",
   "pygments_lexer": "ipython3",
   "version": "3.8.5"
  }
 },
 "nbformat": 4,
 "nbformat_minor": 4
}
