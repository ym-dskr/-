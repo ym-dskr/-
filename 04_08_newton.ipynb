{
 "cells": [
  {
   "cell_type": "markdown",
   "metadata": {},
   "source": [
    "# ニュートン法"
   ]
  },
  {
   "cell_type": "markdown",
   "metadata": {},
   "source": [
    "ニュートン法は与えられた方程式の解を数値的に求める手法。  \n",
    "最適化の問題でも導関数が0になる点を求めることは最適解を求めることになるので、ニュートン法が使える場合がある。  \n",
    "与えられたなめらかな関数$f(x)(x\\in \\mathbb{R})$について\n",
    "$$f(x) = 0$$\n",
    "\n",
    "を求めたいとする。  \n",
    "ニュートン法は初期値$x_{0}$から逐次$x_{1}, x_{2},,,,,$を解に近づけていく。  \n",
    "$y = f(x)$の$x=x_{k}$における接線と$x$軸との交点を$x_{k+1}$とし、十分小さい値$\\varepsilon$について、\n",
    "\n",
    "$$\\left| x_{k+1}-x_{k}\\right| <\\varepsilon$$\n",
    "\n",
    "となったら終了"
   ]
  },
  {
   "cell_type": "markdown",
   "metadata": {},
   "source": [
    "$y = f(x)$の$x=x_{k}$における接線の傾きは$f'\\left( x_{k}\\right)$なので、接線の方程式は、\n",
    "\n",
    "$$y=f'(x_{k})(x-x_{k}) + f(x_{k})$$"
   ]
  },
  {
   "cell_type": "markdown",
   "metadata": {},
   "source": [
    "これと、x軸の好転が$x=x_{k+1}$となる。$x=x_{k+1}$, $y=0$と置くと、"
   ]
  },
  {
   "cell_type": "markdown",
   "metadata": {},
   "source": [
    "$$x_{k+1}=x_{k}-\\dfrac{f\\left( x_{k}\\right) }{f'\\left( x_{k}\\right) }$$"
   ]
  },
  {
   "cell_type": "code",
   "execution_count": 4,
   "metadata": {},
   "outputs": [],
   "source": [
    "import pandas as pd\n",
    "import matplotlib.pyplot as plt\n",
    "import numpy as np\n",
    "from sympy import *\n",
    "from sympy.abc import x,y, k\n",
    "from sympy.plotting import plot\n",
    "from sympy.plotting import plot3d\n",
    "\n",
    "import warnings\n",
    "warnings.filterwarnings('ignore')\n",
    "\n",
    "init_printing()"
   ]
  },
  {
   "cell_type": "code",
   "execution_count": 5,
   "metadata": {},
   "outputs": [
    {
     "name": "stdout",
     "output_type": "stream",
     "text": [
      "2.1284190638445777\n",
      "0.20163967572340463\n",
      "-2.330058739567982\n"
     ]
    }
   ],
   "source": [
    "def f(x):\n",
    "    return x**3-5*x+1\n",
    "\n",
    "\n",
    "def df(x):\n",
    "    return 3*x**2-5\n",
    "\n",
    "def newton1dim(f, df, x0, eps=1e-10, max_iter=1000):\n",
    "    x = x0\n",
    "    iter = 0\n",
    "    while True:\n",
    "        x_new = x - f(x)/df(x)\n",
    "        if abs(x-x_new) < eps:\n",
    "            break\n",
    "        x = x_new\n",
    "        iter += 1\n",
    "        if iter == max_iter:\n",
    "            break\n",
    "    return x_new\n",
    "\n",
    "\n",
    "\n",
    "print(newton1dim(f, df, 2))\n",
    "print(newton1dim(f, df, 0))\n",
    "print(newton1dim(f, df, -3))\n"
   ]
  },
  {
   "cell_type": "code",
   "execution_count": 6,
   "metadata": {},
   "outputs": [],
   "source": [
    "from sympy.abc import x,y,k"
   ]
  },
  {
   "cell_type": "code",
   "execution_count": 7,
   "metadata": {},
   "outputs": [
    {
     "data": {
      "image/png": "[encoded data removed]",
      "text/plain": [
       "<Figure size 432x288 with 1 Axes>"
      ]
     },
     "metadata": {
      "needs_background": "light"
     },
     "output_type": "display_data"
    },
    {
     "data": {
      "text/plain": [
       "<sympy.plotting.plot.Plot at 0x7f61e0a79c10>"
      ]
     },
     "execution_count": 7,
     "metadata": {},
     "output_type": "execute_result"
    }
   ],
   "source": [
    "y = x**3 - 5*x + 1\n",
    "plot(y, (x,-3,3))"
   ]
  },
  {
   "cell_type": "markdown",
   "metadata": {},
   "source": [
    "ニュートン法は多次元の場合にも拡張できる。  \n",
    "例として次のような連立方程式を考える。  \n",
    "\n",
    "$$\\begin{cases}f_{1}\\left( x.y\\right) =x^{3}-2y=0\\\\ f_{2}\\left( x,y\\right) =x^{2}+y^{2}-1=0\\end{cases}$$\n"
   ]
  },
  {
   "cell_type": "markdown",
   "metadata": {},
   "source": [
    "ニュートン法は多次元の場合にも拡張できる。  \n",
    "例として次のような連立方程式を考える。  \n",
    "\n",
    "$$\\begin{cases}f_{1}\\left( x.y\\right) =x^{3}-2y=0\\\\ f_{2}\\left( x,y\\right) =x^{2}+y^{2}-1=0\\end{cases}$$\n",
    "\n",
    "\n",
    "$f$を$\\mathbb{R} ^{2}$から$\\mathbb{R} ^{2}$の写像として\n",
    "$$f\\left( \\overrightarrow{x}\\right) =\\begin{pmatrix} f_{1}\\left( \\overrightarrow{x}\\right) \\\\ f_{2}\\left(\\overrightarrow{x}\\right) \\end{pmatrix}$$\n",
    "\n",
    "ここで\n",
    "$$\\overrightarrow{x}=\\begin{pmatrix} x \\\\ y \\end{pmatrix}$$\n",
    "\n",
    "この時、$f$のヤコビヤン行列を次に定義\n",
    "\n",
    "$$J_{f}\\left( \\overrightarrow{x}\\right) =\\begin{pmatrix} \\dfrac{\\partial f_{1}}{\\partial x}\\left( \\overrightarrow{x}\\right) & \\dfrac{\\partial f_{1}}{\\partial y}\\left( \\overrightarrow{x}\\right) \\\\ \\dfrac{\\partial f_{2}}{\\partial x}\\left( \\overrightarrow{x}\\right) & \\dfrac{\\partial f_{2}}{\\partial y}\\left( \\overrightarrow{x}\\right) \\end{pmatrix} $$\n",
    "\n",
    "\n",
    "この時、ニュートン法は次の更新式で与えられる。\n",
    "\n",
    "$$\\overrightarrow{x}_{k+1}=\\overrightarrow{x}_{k}-J_{f}\\left( \\overrightarrow{x}_{k}\\right) ^{-1} f(\\overrightarrow{x}_{k})$$"
   ]
  },
  {
   "cell_type": "code",
   "execution_count": 8,
   "metadata": {},
   "outputs": [],
   "source": [
    "import numpy as np\n",
    "from numpy import linalg\n",
    "\n",
    "\n",
    "class Newton:\n",
    "    def __init__(self, f, df, eps=1e-10, max_iter=1000):\n",
    "        self.f = f\n",
    "        self.df = df\n",
    "        self.eps = eps\n",
    "        self.max_iter = max_iter\n",
    "\n",
    "    def solve(self, x0):\n",
    "        x = x0\n",
    "        iter = 0\n",
    "        self.path_ = x0.reshape(1, -1) # 1次元のベクトルに変換\n",
    "        while True:\n",
    "            x_new = x - np.dot(linalg.inv(self.df(x)), self.f(x)) # linalg.inv()は逆行列の計算\n",
    "            self.path_ = np.r_[self.path_, x_new.reshape(1, -1)] # np.vstackと同等で、更新毎のpathが格納されたベクトルが行で連なるイメージ\n",
    "            if ((x-x_new)**2).sum() < self.eps*self.eps:\n",
    "                break\n",
    "            x = x_new\n",
    "            iter += 1\n",
    "            if iter == self.max_iter:\n",
    "                break\n",
    "        return x_new"
   ]
  },
  {
   "cell_type": "code",
   "execution_count": 9,
   "metadata": {},
   "outputs": [
    {
     "name": "stdout",
     "output_type": "stream",
     "text": [
      "[0.92071038 0.39024659]\n",
      "[-0.92071038 -0.39024659]\n",
      "[-0.92071038 -0.39024659]\n"
     ]
    },
    {
     "data": {
      "image/png": "[encoded data removed]",
      "text/plain": [
       "<Figure size 720x432 with 1 Axes>"
      ]
     },
     "metadata": {
      "needs_background": "light"
     },
     "output_type": "display_data"
    }
   ],
   "source": [
    "\n",
    "# 実際の様子\n",
    "\n",
    "import numpy as np\n",
    "import matplotlib.pyplot as plt\n",
    "from Sample_code.chap04 import newton\n",
    "\n",
    "\n",
    "def f1(x, y):\n",
    "    return x**3-2*y\n",
    "\n",
    "\n",
    "def f2(x, y):\n",
    "    return x**2+y**2-1\n",
    "\n",
    "\n",
    "def f(xx):\n",
    "    x = xx[0]\n",
    "    y = xx[1]\n",
    "    return np.array([f1(x, y), f2(x, y)])\n",
    "\n",
    "\n",
    "def df(xx):\n",
    "    x = xx[0]\n",
    "    y = xx[1]\n",
    "    return np.array([[3*x**2, -2], [2*x, 2*y]])\n",
    "\n",
    "plt.figure(figsize = (10, 6))\n",
    "\n",
    "xmin, xmax, ymin, ymax = -3, 3, -3, 3\n",
    "plt.xlim(xmin, xmax)\n",
    "plt.ylim(ymin, ymax)\n",
    "x = np.linspace(xmin, xmax, 200)\n",
    "y = np.linspace(ymin, ymax, 200)\n",
    "xmesh, ymesh = np.meshgrid(x, y)\n",
    "z1 = f1(xmesh, ymesh)\n",
    "z2 = f2(xmesh, ymesh)\n",
    "plt.contour(xmesh, ymesh, z1, colors=\"r\", levels=[0])\n",
    "plt.contour(xmesh, ymesh, z2, colors=\"k\", levels=[0])\n",
    "solver = newton.Newton(f, df)\n",
    "\n",
    "initials = [np.array([1, 1]),\n",
    "            np.array([-1, -1]),\n",
    "            np.array([1, -1])]\n",
    "markers = [\"+\", \"*\", \"x\"]\n",
    "\n",
    "for x0, m in zip(initials, markers):\n",
    "    sol = solver.solve(x0)\n",
    "    plt.scatter(solver.path_[:, 0],\n",
    "                solver.path_[:, 1], color=\"k\", marker=m)\n",
    "    print(sol)\n",
    "\n",
    "plt.show()\n"
   ]
  },
  {
   "cell_type": "markdown",
   "metadata": {},
   "source": [
    "## 参考 : ヤコビヤン行列\n",
    "一変数の場合，微分係数は関数の一次近似（の接線の傾き）という意味があった。\n",
    "\n",
    "$$y(x)≒ y(x_{0})+y′(x_{0})(x−x_{0})$$\n",
    "\n",
    "多変数の場合，接線の傾きに相当するのがヤコビ行列\n",
    "\n",
    "$$\\overrightarrow{y}\\left( \\overrightarrow{x}\\right) \\fallingdotseq \\overrightarrow{y}\\left( \\overrightarrow{x}_{0}\\right)+J\\left( \\overrightarrow{x}_{0}\\right) \\left( \\overrightarrow{x}-\\overrightarrow{x}_{0}\\right)$$"
   ]
  },
  {
   "cell_type": "code",
   "execution_count": null,
   "metadata": {},
   "outputs": [],
   "source": []
  },
  {
   "cell_type": "code",
   "execution_count": null,
   "metadata": {},
   "outputs": [],
   "source": []
  }
 ],
 "metadata": {
  "kernelspec": {
   "display_name": "Python 3",
   "language": "python",
   "name": "python3"
  },
  "language_info": {
   "codemirror_mode": {
    "name": "ipython",
    "version": 3
   },
   "file_extension": ".py",
   "mimetype": "text/x-python",
   "name": "python",
   "nbconvert_exporter": "python",
   "pygments_lexer": "ipython3",
   "version": "3.8.5"
  }
 },
 "nbformat": 4,
 "nbformat_minor": 4
}
